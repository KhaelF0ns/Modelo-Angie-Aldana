{
  "cells": [
    {
      "cell_type": "markdown",
      "metadata": {
        "id": "K_VdNQ9cbfoK"
      },
      "source": [
        "# Import"
      ]
    },
    {
      "cell_type": "code",
      "execution_count": 2,
      "metadata": {
        "id": "hi0-cuvBY0vn"
      },
      "outputs": [
        {
          "name": "stdout",
          "output_type": "stream",
          "text": [
            "Requirement already satisfied: seaborn in /home/keos_angie/Insync/aaldana@keos.co/Google Drive/00__PC_AZUL/music/venv/lib/python3.10/site-packages (0.12.2)\n",
            "Requirement already satisfied: numpy!=1.24.0,>=1.17 in /home/keos_angie/Insync/aaldana@keos.co/Google Drive/00__PC_AZUL/music/venv/lib/python3.10/site-packages (from seaborn) (1.23.5)\n",
            "Requirement already satisfied: matplotlib!=3.6.1,>=3.1 in /home/keos_angie/Insync/aaldana@keos.co/Google Drive/00__PC_AZUL/music/venv/lib/python3.10/site-packages (from seaborn) (3.7.1)\n",
            "Requirement already satisfied: pandas>=0.25 in /home/keos_angie/Insync/aaldana@keos.co/Google Drive/00__PC_AZUL/music/venv/lib/python3.10/site-packages (from seaborn) (1.5.3)\n",
            "Requirement already satisfied: cycler>=0.10 in /home/keos_angie/Insync/aaldana@keos.co/Google Drive/00__PC_AZUL/music/venv/lib/python3.10/site-packages (from matplotlib!=3.6.1,>=3.1->seaborn) (0.11.0)\n",
            "Requirement already satisfied: packaging>=20.0 in /home/keos_angie/Insync/aaldana@keos.co/Google Drive/00__PC_AZUL/music/venv/lib/python3.10/site-packages (from matplotlib!=3.6.1,>=3.1->seaborn) (23.0)\n",
            "Requirement already satisfied: pyparsing>=2.3.1 in /home/keos_angie/Insync/aaldana@keos.co/Google Drive/00__PC_AZUL/music/venv/lib/python3.10/site-packages (from matplotlib!=3.6.1,>=3.1->seaborn) (3.0.9)\n",
            "Requirement already satisfied: contourpy>=1.0.1 in /home/keos_angie/Insync/aaldana@keos.co/Google Drive/00__PC_AZUL/music/venv/lib/python3.10/site-packages (from matplotlib!=3.6.1,>=3.1->seaborn) (1.0.7)\n",
            "Requirement already satisfied: fonttools>=4.22.0 in /home/keos_angie/Insync/aaldana@keos.co/Google Drive/00__PC_AZUL/music/venv/lib/python3.10/site-packages (from matplotlib!=3.6.1,>=3.1->seaborn) (4.39.0)\n",
            "Requirement already satisfied: python-dateutil>=2.7 in /home/keos_angie/Insync/aaldana@keos.co/Google Drive/00__PC_AZUL/music/venv/lib/python3.10/site-packages (from matplotlib!=3.6.1,>=3.1->seaborn) (2.8.2)\n",
            "Requirement already satisfied: pillow>=6.2.0 in /home/keos_angie/Insync/aaldana@keos.co/Google Drive/00__PC_AZUL/music/venv/lib/python3.10/site-packages (from matplotlib!=3.6.1,>=3.1->seaborn) (9.4.0)\n",
            "Requirement already satisfied: kiwisolver>=1.0.1 in /home/keos_angie/Insync/aaldana@keos.co/Google Drive/00__PC_AZUL/music/venv/lib/python3.10/site-packages (from matplotlib!=3.6.1,>=3.1->seaborn) (1.4.4)\n",
            "Requirement already satisfied: pytz>=2020.1 in /home/keos_angie/Insync/aaldana@keos.co/Google Drive/00__PC_AZUL/music/venv/lib/python3.10/site-packages (from pandas>=0.25->seaborn) (2022.7.1)\n",
            "Requirement already satisfied: six>=1.5 in /home/keos_angie/Insync/aaldana@keos.co/Google Drive/00__PC_AZUL/music/venv/lib/python3.10/site-packages (from python-dateutil>=2.7->matplotlib!=3.6.1,>=3.1->seaborn) (1.16.0)\n",
            "Note: you may need to restart the kernel to use updated packages.\n",
            "Requirement already satisfied: pytorch-lightning in /home/keos_angie/Insync/aaldana@keos.co/Google Drive/00__PC_AZUL/music/venv/lib/python3.10/site-packages (2.0.2)\n",
            "Requirement already satisfied: packaging>=17.1 in /home/keos_angie/Insync/aaldana@keos.co/Google Drive/00__PC_AZUL/music/venv/lib/python3.10/site-packages (from pytorch-lightning) (23.0)\n",
            "Requirement already satisfied: PyYAML>=5.4 in /home/keos_angie/Insync/aaldana@keos.co/Google Drive/00__PC_AZUL/music/venv/lib/python3.10/site-packages (from pytorch-lightning) (6.0)\n",
            "Requirement already satisfied: tqdm>=4.57.0 in /home/keos_angie/Insync/aaldana@keos.co/Google Drive/00__PC_AZUL/music/venv/lib/python3.10/site-packages (from pytorch-lightning) (4.65.0)\n",
            "Requirement already satisfied: torchmetrics>=0.7.0 in /home/keos_angie/Insync/aaldana@keos.co/Google Drive/00__PC_AZUL/music/venv/lib/python3.10/site-packages (from pytorch-lightning) (0.11.4)\n",
            "Requirement already satisfied: typing-extensions>=4.0.0 in /home/keos_angie/Insync/aaldana@keos.co/Google Drive/00__PC_AZUL/music/venv/lib/python3.10/site-packages (from pytorch-lightning) (4.5.0)\n",
            "Requirement already satisfied: numpy>=1.17.2 in /home/keos_angie/Insync/aaldana@keos.co/Google Drive/00__PC_AZUL/music/venv/lib/python3.10/site-packages (from pytorch-lightning) (1.23.5)\n",
            "Requirement already satisfied: lightning-utilities>=0.7.0 in /home/keos_angie/Insync/aaldana@keos.co/Google Drive/00__PC_AZUL/music/venv/lib/python3.10/site-packages (from pytorch-lightning) (0.8.0)\n",
            "Requirement already satisfied: torch>=1.11.0 in /home/keos_angie/Insync/aaldana@keos.co/Google Drive/00__PC_AZUL/music/venv/lib/python3.10/site-packages (from pytorch-lightning) (2.0.1)\n",
            "Requirement already satisfied: fsspec[http]>2021.06.0 in /home/keos_angie/Insync/aaldana@keos.co/Google Drive/00__PC_AZUL/music/venv/lib/python3.10/site-packages (from pytorch-lightning) (2023.4.0)\n",
            "Requirement already satisfied: requests in /home/keos_angie/Insync/aaldana@keos.co/Google Drive/00__PC_AZUL/music/venv/lib/python3.10/site-packages (from fsspec[http]>2021.06.0->pytorch-lightning) (2.28.2)\n",
            "Requirement already satisfied: aiohttp!=4.0.0a0,!=4.0.0a1 in /home/keos_angie/Insync/aaldana@keos.co/Google Drive/00__PC_AZUL/music/venv/lib/python3.10/site-packages (from fsspec[http]>2021.06.0->pytorch-lightning) (3.8.4)\n",
            "Requirement already satisfied: nvidia-cuda-cupti-cu11==11.7.101 in /home/keos_angie/Insync/aaldana@keos.co/Google Drive/00__PC_AZUL/music/venv/lib/python3.10/site-packages (from torch>=1.11.0->pytorch-lightning) (11.7.101)\n",
            "Requirement already satisfied: jinja2 in /home/keos_angie/Insync/aaldana@keos.co/Google Drive/00__PC_AZUL/music/venv/lib/python3.10/site-packages (from torch>=1.11.0->pytorch-lightning) (3.1.2)\n",
            "Requirement already satisfied: sympy in /home/keos_angie/Insync/aaldana@keos.co/Google Drive/00__PC_AZUL/music/venv/lib/python3.10/site-packages (from torch>=1.11.0->pytorch-lightning) (1.12)\n",
            "Requirement already satisfied: nvidia-curand-cu11==10.2.10.91 in /home/keos_angie/Insync/aaldana@keos.co/Google Drive/00__PC_AZUL/music/venv/lib/python3.10/site-packages (from torch>=1.11.0->pytorch-lightning) (10.2.10.91)\n",
            "Requirement already satisfied: nvidia-cufft-cu11==10.9.0.58 in /home/keos_angie/Insync/aaldana@keos.co/Google Drive/00__PC_AZUL/music/venv/lib/python3.10/site-packages (from torch>=1.11.0->pytorch-lightning) (10.9.0.58)\n",
            "Requirement already satisfied: nvidia-nccl-cu11==2.14.3 in /home/keos_angie/Insync/aaldana@keos.co/Google Drive/00__PC_AZUL/music/venv/lib/python3.10/site-packages (from torch>=1.11.0->pytorch-lightning) (2.14.3)\n",
            "Requirement already satisfied: networkx in /home/keos_angie/Insync/aaldana@keos.co/Google Drive/00__PC_AZUL/music/venv/lib/python3.10/site-packages (from torch>=1.11.0->pytorch-lightning) (3.1)\n",
            "Requirement already satisfied: nvidia-cuda-nvrtc-cu11==11.7.99 in /home/keos_angie/Insync/aaldana@keos.co/Google Drive/00__PC_AZUL/music/venv/lib/python3.10/site-packages (from torch>=1.11.0->pytorch-lightning) (11.7.99)\n",
            "Requirement already satisfied: nvidia-cublas-cu11==11.10.3.66 in /home/keos_angie/Insync/aaldana@keos.co/Google Drive/00__PC_AZUL/music/venv/lib/python3.10/site-packages (from torch>=1.11.0->pytorch-lightning) (11.10.3.66)\n",
            "Requirement already satisfied: nvidia-cudnn-cu11==8.5.0.96 in /home/keos_angie/Insync/aaldana@keos.co/Google Drive/00__PC_AZUL/music/venv/lib/python3.10/site-packages (from torch>=1.11.0->pytorch-lightning) (8.5.0.96)\n",
            "Requirement already satisfied: nvidia-cusolver-cu11==11.4.0.1 in /home/keos_angie/Insync/aaldana@keos.co/Google Drive/00__PC_AZUL/music/venv/lib/python3.10/site-packages (from torch>=1.11.0->pytorch-lightning) (11.4.0.1)\n",
            "Requirement already satisfied: nvidia-cuda-runtime-cu11==11.7.99 in /home/keos_angie/Insync/aaldana@keos.co/Google Drive/00__PC_AZUL/music/venv/lib/python3.10/site-packages (from torch>=1.11.0->pytorch-lightning) (11.7.99)\n",
            "Requirement already satisfied: nvidia-cusparse-cu11==11.7.4.91 in /home/keos_angie/Insync/aaldana@keos.co/Google Drive/00__PC_AZUL/music/venv/lib/python3.10/site-packages (from torch>=1.11.0->pytorch-lightning) (11.7.4.91)\n",
            "Requirement already satisfied: triton==2.0.0 in /home/keos_angie/Insync/aaldana@keos.co/Google Drive/00__PC_AZUL/music/venv/lib/python3.10/site-packages (from torch>=1.11.0->pytorch-lightning) (2.0.0)\n",
            "Requirement already satisfied: nvidia-nvtx-cu11==11.7.91 in /home/keos_angie/Insync/aaldana@keos.co/Google Drive/00__PC_AZUL/music/venv/lib/python3.10/site-packages (from torch>=1.11.0->pytorch-lightning) (11.7.91)\n",
            "Requirement already satisfied: filelock in /home/keos_angie/Insync/aaldana@keos.co/Google Drive/00__PC_AZUL/music/venv/lib/python3.10/site-packages (from torch>=1.11.0->pytorch-lightning) (3.12.0)\n",
            "Requirement already satisfied: wheel in /home/keos_angie/Insync/aaldana@keos.co/Google Drive/00__PC_AZUL/music/venv/lib/python3.10/site-packages (from nvidia-cublas-cu11==11.10.3.66->torch>=1.11.0->pytorch-lightning) (0.40.0)\n",
            "Requirement already satisfied: setuptools in /home/keos_angie/Insync/aaldana@keos.co/Google Drive/00__PC_AZUL/music/venv/lib/python3.10/site-packages (from nvidia-cublas-cu11==11.10.3.66->torch>=1.11.0->pytorch-lightning) (59.6.0)\n",
            "Requirement already satisfied: lit in /home/keos_angie/Insync/aaldana@keos.co/Google Drive/00__PC_AZUL/music/venv/lib/python3.10/site-packages (from triton==2.0.0->torch>=1.11.0->pytorch-lightning) (16.0.3)\n",
            "Requirement already satisfied: cmake in /home/keos_angie/Insync/aaldana@keos.co/Google Drive/00__PC_AZUL/music/venv/lib/python3.10/site-packages (from triton==2.0.0->torch>=1.11.0->pytorch-lightning) (3.26.3)\n",
            "Requirement already satisfied: aiosignal>=1.1.2 in /home/keos_angie/Insync/aaldana@keos.co/Google Drive/00__PC_AZUL/music/venv/lib/python3.10/site-packages (from aiohttp!=4.0.0a0,!=4.0.0a1->fsspec[http]>2021.06.0->pytorch-lightning) (1.3.1)\n",
            "Requirement already satisfied: attrs>=17.3.0 in /home/keos_angie/Insync/aaldana@keos.co/Google Drive/00__PC_AZUL/music/venv/lib/python3.10/site-packages (from aiohttp!=4.0.0a0,!=4.0.0a1->fsspec[http]>2021.06.0->pytorch-lightning) (23.1.0)\n",
            "Requirement already satisfied: multidict<7.0,>=4.5 in /home/keos_angie/Insync/aaldana@keos.co/Google Drive/00__PC_AZUL/music/venv/lib/python3.10/site-packages (from aiohttp!=4.0.0a0,!=4.0.0a1->fsspec[http]>2021.06.0->pytorch-lightning) (6.0.4)\n",
            "Requirement already satisfied: frozenlist>=1.1.1 in /home/keos_angie/Insync/aaldana@keos.co/Google Drive/00__PC_AZUL/music/venv/lib/python3.10/site-packages (from aiohttp!=4.0.0a0,!=4.0.0a1->fsspec[http]>2021.06.0->pytorch-lightning) (1.3.3)\n",
            "Requirement already satisfied: async-timeout<5.0,>=4.0.0a3 in /home/keos_angie/Insync/aaldana@keos.co/Google Drive/00__PC_AZUL/music/venv/lib/python3.10/site-packages (from aiohttp!=4.0.0a0,!=4.0.0a1->fsspec[http]>2021.06.0->pytorch-lightning) (4.0.2)\n",
            "Requirement already satisfied: charset-normalizer<4.0,>=2.0 in /home/keos_angie/Insync/aaldana@keos.co/Google Drive/00__PC_AZUL/music/venv/lib/python3.10/site-packages (from aiohttp!=4.0.0a0,!=4.0.0a1->fsspec[http]>2021.06.0->pytorch-lightning) (3.0.1)\n",
            "Requirement already satisfied: yarl<2.0,>=1.0 in /home/keos_angie/Insync/aaldana@keos.co/Google Drive/00__PC_AZUL/music/venv/lib/python3.10/site-packages (from aiohttp!=4.0.0a0,!=4.0.0a1->fsspec[http]>2021.06.0->pytorch-lightning) (1.9.2)\n",
            "Requirement already satisfied: MarkupSafe>=2.0 in /home/keos_angie/Insync/aaldana@keos.co/Google Drive/00__PC_AZUL/music/venv/lib/python3.10/site-packages (from jinja2->torch>=1.11.0->pytorch-lightning) (2.1.2)\n",
            "Requirement already satisfied: certifi>=2017.4.17 in /home/keos_angie/Insync/aaldana@keos.co/Google Drive/00__PC_AZUL/music/venv/lib/python3.10/site-packages (from requests->fsspec[http]>2021.06.0->pytorch-lightning) (2022.12.7)\n",
            "Requirement already satisfied: idna<4,>=2.5 in /home/keos_angie/Insync/aaldana@keos.co/Google Drive/00__PC_AZUL/music/venv/lib/python3.10/site-packages (from requests->fsspec[http]>2021.06.0->pytorch-lightning) (3.4)\n",
            "Requirement already satisfied: urllib3<1.27,>=1.21.1 in /home/keos_angie/Insync/aaldana@keos.co/Google Drive/00__PC_AZUL/music/venv/lib/python3.10/site-packages (from requests->fsspec[http]>2021.06.0->pytorch-lightning) (1.26.14)\n",
            "Requirement already satisfied: mpmath>=0.19 in /home/keos_angie/Insync/aaldana@keos.co/Google Drive/00__PC_AZUL/music/venv/lib/python3.10/site-packages (from sympy->torch>=1.11.0->pytorch-lightning) (1.3.0)\n",
            "Note: you may need to restart the kernel to use updated packages.\n"
          ]
        },
        {
          "name": "stderr",
          "output_type": "stream",
          "text": [
            "UsageError: Line magic function `%` not found.\n"
          ]
        }
      ],
      "source": [
        "# Importaciones necesarias\n",
        "%pip  install seaborn\n",
        "%pip install pytorch-lightning\n",
        "% pip install plotly\n",
        "\n",
        "import pandas as pd\n",
        "import numpy as np\n",
        "import seaborn as sns\n",
        "import statistics\n",
        "import json\n",
        "import re\n",
        "import matplotlib.pyplot as plt\n",
        "import matplotlib\n",
        "import torch\n",
        "import pytorch_lightning as pl\n",
        "import pandas as pd\n",
        "import plotly.express as px\n",
        "import plotly.graph_objects as go\n",
        "\n",
        "from torch.nn import Module, Linear\n",
        "from torch.nn.functional import sigmoid, binary_cross_entropy\n",
        "from torch.optim import Adam, Optimizer\n",
        "from torch.utils.data import Dataset, DataLoader\n",
        "from typing import Tuple\n",
        "from numpy.typing import ArrayLike\n",
        "from numpy import nan\n",
        "from numpy.random import randn\n",
        "from numpy import percentile\n",
        "from numpy import asarray\n",
        "from statistics import mode\n",
        "from sklearn.preprocessing import StandardScaler\n",
        "from sklearn.preprocessing import OneHotEncoder\n"
      ]
    },
    {
      "cell_type": "code",
      "execution_count": 3,
      "metadata": {},
      "outputs": [
        {
          "name": "stdout",
          "output_type": "stream",
          "text": [
            "Requirement already satisfied: nltk in /home/keos_angie/Insync/aaldana@keos.co/Google Drive/00__PC_AZUL/music/venv/lib/python3.10/site-packages (3.8.1)\n",
            "Requirement already satisfied: joblib in /home/keos_angie/Insync/aaldana@keos.co/Google Drive/00__PC_AZUL/music/venv/lib/python3.10/site-packages (from nltk) (1.2.0)\n",
            "Requirement already satisfied: tqdm in /home/keos_angie/Insync/aaldana@keos.co/Google Drive/00__PC_AZUL/music/venv/lib/python3.10/site-packages (from nltk) (4.65.0)\n",
            "Requirement already satisfied: click in /home/keos_angie/Insync/aaldana@keos.co/Google Drive/00__PC_AZUL/music/venv/lib/python3.10/site-packages (from nltk) (8.1.3)\n",
            "Requirement already satisfied: regex>=2021.8.3 in /home/keos_angie/Insync/aaldana@keos.co/Google Drive/00__PC_AZUL/music/venv/lib/python3.10/site-packages (from nltk) (2023.5.5)\n",
            "Note: you may need to restart the kernel to use updated packages.\n",
            "Requirement already satisfied: plotly in /home/keos_angie/Insync/aaldana@keos.co/Google Drive/00__PC_AZUL/music/venv/lib/python3.10/site-packages (5.14.1)\n",
            "Requirement already satisfied: tenacity>=6.2.0 in /home/keos_angie/Insync/aaldana@keos.co/Google Drive/00__PC_AZUL/music/venv/lib/python3.10/site-packages (from plotly) (8.2.2)\n",
            "Requirement already satisfied: packaging in /home/keos_angie/Insync/aaldana@keos.co/Google Drive/00__PC_AZUL/music/venv/lib/python3.10/site-packages (from plotly) (23.0)\n",
            "Note: you may need to restart the kernel to use updated packages.\n",
            "Requirement already satisfied: unidecode in /home/keos_angie/Insync/aaldana@keos.co/Google Drive/00__PC_AZUL/music/venv/lib/python3.10/site-packages (1.3.6)\n",
            "Note: you may need to restart the kernel to use updated packages.\n"
          ]
        }
      ],
      "source": [
        "%pip install nltk\n",
        "%pip install plotly\n",
        "%pip install unidecode"
      ]
    },
    {
      "cell_type": "code",
      "execution_count": 4,
      "metadata": {},
      "outputs": [],
      "source": [
        "import re, nltk\n",
        "import torch\n",
        "import joblib\n",
        "import pandas as pd\n",
        "import numpy as np\n",
        "import plotly.express as px\n",
        "from numpy.typing import ArrayLike\n",
        "from torch import Tensor\n",
        "from typing import Tuple, List, Callable\n",
        "from nltk.corpus import stopwords\n",
        "from nltk.tokenize import word_tokenize\n",
        "from torch.nn import Module, Linear, Dropout, Sequential\n",
        "from torch.nn.functional import cross_entropy, relu\n",
        "from torch.optim import Adam, Optimizer\n",
        "from torch.utils.data import Dataset, DataLoader, random_split\n",
        "from pytorch_lightning import LightningModule, Trainer\n",
        "from pytorch_lightning.loggers import CSVLogger\n",
        "from pytorch_lightning.callbacks.early_stopping import EarlyStopping\n",
        "from sklearn.feature_extraction.text import TfidfVectorizer\n",
        "from unidecode import unidecode"
      ]
    },
    {
      "attachments": {},
      "cell_type": "markdown",
      "metadata": {},
      "source": [
        "# Carga de Datos"
      ]
    },
    {
      "cell_type": "code",
      "execution_count": 5,
      "metadata": {
        "id": "xM_kM9urqMQC"
      },
      "outputs": [
        {
          "data": {
            "text/html": [
              "<div>\n",
              "<style scoped>\n",
              "    .dataframe tbody tr th:only-of-type {\n",
              "        vertical-align: middle;\n",
              "    }\n",
              "\n",
              "    .dataframe tbody tr th {\n",
              "        vertical-align: top;\n",
              "    }\n",
              "\n",
              "    .dataframe thead th {\n",
              "        text-align: right;\n",
              "    }\n",
              "</style>\n",
              "<table border=\"1\" class=\"dataframe\">\n",
              "  <thead>\n",
              "    <tr style=\"text-align: right;\">\n",
              "      <th></th>\n",
              "      <th>Idioma</th>\n",
              "      <th>lyrics_state</th>\n",
              "      <th>hasLetra</th>\n",
              "      <th>Lyrics</th>\n",
              "      <th>Lyrics_proces</th>\n",
              "      <th>songId</th>\n",
              "      <th>track_uri</th>\n",
              "      <th>track_name</th>\n",
              "      <th>artist_uri</th>\n",
              "      <th>artist_info</th>\n",
              "      <th>...</th>\n",
              "      <th>dominance_tags</th>\n",
              "      <th>mbid</th>\n",
              "      <th>spotify_id</th>\n",
              "      <th>genre</th>\n",
              "      <th>cuadrante</th>\n",
              "      <th>cuadReal</th>\n",
              "      <th>lexicones</th>\n",
              "      <th>emociones</th>\n",
              "      <th>emocionesLetra</th>\n",
              "      <th>emocion_mas_comun</th>\n",
              "    </tr>\n",
              "    <tr>\n",
              "      <th>Letra</th>\n",
              "      <th></th>\n",
              "      <th></th>\n",
              "      <th></th>\n",
              "      <th></th>\n",
              "      <th></th>\n",
              "      <th></th>\n",
              "      <th></th>\n",
              "      <th></th>\n",
              "      <th></th>\n",
              "      <th></th>\n",
              "      <th></th>\n",
              "      <th></th>\n",
              "      <th></th>\n",
              "      <th></th>\n",
              "      <th></th>\n",
              "      <th></th>\n",
              "      <th></th>\n",
              "      <th></th>\n",
              "      <th></th>\n",
              "      <th></th>\n",
              "      <th></th>\n",
              "    </tr>\n",
              "  </thead>\n",
              "  <tbody>\n",
              "    <tr>\n",
              "      <th>Data/Letras/1-'Till-I-Collapse-Eminem.txt</th>\n",
              "      <td>en</td>\n",
              "      <td>complete</td>\n",
              "      <td>1.0</td>\n",
              "      <td>TranslationsEspañolTürkçePortuguêsItalianoहिन्...</td>\n",
              "      <td>cause feel tired left left feel weak feel weak...</td>\n",
              "      <td>till-i-collapse-eminem.txt</td>\n",
              "      <td>spotify:track:4xkOaSrkexMciUUogZKVTS</td>\n",
              "      <td>Till I Collapse</td>\n",
              "      <td>spotify:artist:7dGJo4pcD2V6oG8kP0tJRR</td>\n",
              "      <td>{'external_urls': {'spotify': 'https://open.sp...</td>\n",
              "      <td>...</td>\n",
              "      <td>5.690625</td>\n",
              "      <td>cab93def-26c5-4fb0-bedd-26ec4c1619e1</td>\n",
              "      <td>4xkOaSrkexMciUUogZKVTS</td>\n",
              "      <td>rap</td>\n",
              "      <td>3</td>\n",
              "      <td>2</td>\n",
              "      <td>[0. 2. 0. 0. 0. 2. 6. 0. 0. 2.]</td>\n",
              "      <td>['anticipation', 'negative', 'positive', 'trust']</td>\n",
              "      <td>['3', '2', '1', '3']</td>\n",
              "      <td>3</td>\n",
              "    </tr>\n",
              "    <tr>\n",
              "      <th>Data/Letras/2-St.-Anger-Metallica.txt</th>\n",
              "      <td>en</td>\n",
              "      <td>complete</td>\n",
              "      <td>1.0</td>\n",
              "      <td>St. Anger Lyrics[Verse]\\nSaint Anger 'round my...</td>\n",
              "      <td>saint anger round neck saint anger round neck ...</td>\n",
              "      <td>st.-anger-metallica.txt</td>\n",
              "      <td>spotify:track:3fOc9x06lKJBhz435mInlH</td>\n",
              "      <td>St. Anger</td>\n",
              "      <td>spotify:artist:2ye2Wgw4gimLv2eAKyk1NB</td>\n",
              "      <td>{'external_urls': {'spotify': 'https://open.sp...</td>\n",
              "      <td>...</td>\n",
              "      <td>5.427250</td>\n",
              "      <td>727a2529-7ee8-4860-aef6-7959884895cb</td>\n",
              "      <td>3fOc9x06lKJBhz435mInlH</td>\n",
              "      <td>metal</td>\n",
              "      <td>3</td>\n",
              "      <td>2</td>\n",
              "      <td>[0. 6. 0. 0. 0. 6. 0. 0. 0. 0.]</td>\n",
              "      <td>['anticipation', 'negative']</td>\n",
              "      <td>['3', '2']</td>\n",
              "      <td>3</td>\n",
              "    </tr>\n",
              "    <tr>\n",
              "      <th>Data/Letras/3-Speedin'-Rick-Ross.txt</th>\n",
              "      <td>en</td>\n",
              "      <td>complete</td>\n",
              "      <td>1.0</td>\n",
              "      <td>Speedin’ Lyrics[Intro: Rick Ross]\\nLegendary\\n...</td>\n",
              "      <td>legendary runners know trilla dollar count acc...</td>\n",
              "      <td>speedin-rick-ross.txt</td>\n",
              "      <td>spotify:track:3Y96xd4Ce0J47dcalLrEC8</td>\n",
              "      <td>Speedin'</td>\n",
              "      <td>spotify:artist:1sBkRIssrMs1AbVkOJbc7a</td>\n",
              "      <td>{'external_urls': {'spotify': 'https://open.sp...</td>\n",
              "      <td>...</td>\n",
              "      <td>5.490000</td>\n",
              "      <td>NaN</td>\n",
              "      <td>3Y96xd4Ce0J47dcalLrEC8</td>\n",
              "      <td>rap</td>\n",
              "      <td>3</td>\n",
              "      <td>2</td>\n",
              "      <td>[0. 2. 0. 0. 0. 2. 0. 0. 0. 0.]</td>\n",
              "      <td>['anticipation', 'negative']</td>\n",
              "      <td>['3', '2']</td>\n",
              "      <td>3</td>\n",
              "    </tr>\n",
              "    <tr>\n",
              "      <th>Data/Letras/4-Bamboo-Banga-M.I.A..txt</th>\n",
              "      <td>en</td>\n",
              "      <td>complete</td>\n",
              "      <td>1.0</td>\n",
              "      <td>Bamboo Banga Lyrics[Intro]\\nRoad runner, road ...</td>\n",
              "      <td>road runner road runner going miles hour road ...</td>\n",
              "      <td>bamboo-banga-m.i.a..txt</td>\n",
              "      <td>spotify:track:6tqFC1DIOphJkCwrjVzPmg</td>\n",
              "      <td>Bamboo Banga</td>\n",
              "      <td>spotify:artist:0QJIPDAEDILuo8AIq3pMuU</td>\n",
              "      <td>{'external_urls': {'spotify': 'https://open.sp...</td>\n",
              "      <td>...</td>\n",
              "      <td>5.691357</td>\n",
              "      <td>99dd2c8c-e7c1-413e-8ea4-4497a00ffa18</td>\n",
              "      <td>6tqFC1DIOphJkCwrjVzPmg</td>\n",
              "      <td>hip-hop</td>\n",
              "      <td>3</td>\n",
              "      <td>1</td>\n",
              "      <td>[0. 0. 0. 0. 0. 0. 4. 0. 0. 0.]</td>\n",
              "      <td>['positive']</td>\n",
              "      <td>['1']</td>\n",
              "      <td>1</td>\n",
              "    </tr>\n",
              "    <tr>\n",
              "      <th>Data/Letras/5-Die-MF-Die-Dope.txt</th>\n",
              "      <td>en</td>\n",
              "      <td>complete</td>\n",
              "      <td>1.0</td>\n",
              "      <td>Die MF Die Lyrics[Intro]\\nDie!\\n\\n[Verse 1]\\nI...</td>\n",
              "      <td>die need forgiveness need hate need acceptance...</td>\n",
              "      <td>die-mf-die-dope.txt</td>\n",
              "      <td>spotify:track:5bU4KX47KqtDKKaLM4QCzh</td>\n",
              "      <td>Die MF Die</td>\n",
              "      <td>spotify:artist:7fWgqc4HJi3pcHhK8hKg2p</td>\n",
              "      <td>{'external_urls': {'spotify': 'https://open.sp...</td>\n",
              "      <td>...</td>\n",
              "      <td>5.441765</td>\n",
              "      <td>b9eb3484-5e0e-4690-ab5a-ca91937032a5</td>\n",
              "      <td>5bU4KX47KqtDKKaLM4QCzh</td>\n",
              "      <td>metal</td>\n",
              "      <td>3</td>\n",
              "      <td>1</td>\n",
              "      <td>[0. 1. 0. 0. 0. 1. 0. 0. 0. 0.]</td>\n",
              "      <td>['anticipation', 'negative']</td>\n",
              "      <td>['3', '2']</td>\n",
              "      <td>3</td>\n",
              "    </tr>\n",
              "  </tbody>\n",
              "</table>\n",
              "<p>5 rows × 49 columns</p>\n",
              "</div>"
            ],
            "text/plain": [
              "                                          Idioma lyrics_state  hasLetra  \\\n",
              "Letra                                                                     \n",
              "Data/Letras/1-'Till-I-Collapse-Eminem.txt     en     complete       1.0   \n",
              "Data/Letras/2-St.-Anger-Metallica.txt         en     complete       1.0   \n",
              "Data/Letras/3-Speedin'-Rick-Ross.txt          en     complete       1.0   \n",
              "Data/Letras/4-Bamboo-Banga-M.I.A..txt         en     complete       1.0   \n",
              "Data/Letras/5-Die-MF-Die-Dope.txt             en     complete       1.0   \n",
              "\n",
              "                                                                                      Lyrics  \\\n",
              "Letra                                                                                          \n",
              "Data/Letras/1-'Till-I-Collapse-Eminem.txt  TranslationsEspañolTürkçePortuguêsItalianoहिन्...   \n",
              "Data/Letras/2-St.-Anger-Metallica.txt      St. Anger Lyrics[Verse]\\nSaint Anger 'round my...   \n",
              "Data/Letras/3-Speedin'-Rick-Ross.txt       Speedin’ Lyrics[Intro: Rick Ross]\\nLegendary\\n...   \n",
              "Data/Letras/4-Bamboo-Banga-M.I.A..txt      Bamboo Banga Lyrics[Intro]\\nRoad runner, road ...   \n",
              "Data/Letras/5-Die-MF-Die-Dope.txt          Die MF Die Lyrics[Intro]\\nDie!\\n\\n[Verse 1]\\nI...   \n",
              "\n",
              "                                                                               Lyrics_proces  \\\n",
              "Letra                                                                                          \n",
              "Data/Letras/1-'Till-I-Collapse-Eminem.txt  cause feel tired left left feel weak feel weak...   \n",
              "Data/Letras/2-St.-Anger-Metallica.txt      saint anger round neck saint anger round neck ...   \n",
              "Data/Letras/3-Speedin'-Rick-Ross.txt       legendary runners know trilla dollar count acc...   \n",
              "Data/Letras/4-Bamboo-Banga-M.I.A..txt      road runner road runner going miles hour road ...   \n",
              "Data/Letras/5-Die-MF-Die-Dope.txt          die need forgiveness need hate need acceptance...   \n",
              "\n",
              "                                                               songId  \\\n",
              "Letra                                                                   \n",
              "Data/Letras/1-'Till-I-Collapse-Eminem.txt  till-i-collapse-eminem.txt   \n",
              "Data/Letras/2-St.-Anger-Metallica.txt         st.-anger-metallica.txt   \n",
              "Data/Letras/3-Speedin'-Rick-Ross.txt            speedin-rick-ross.txt   \n",
              "Data/Letras/4-Bamboo-Banga-M.I.A..txt         bamboo-banga-m.i.a..txt   \n",
              "Data/Letras/5-Die-MF-Die-Dope.txt                 die-mf-die-dope.txt   \n",
              "\n",
              "                                                                      track_uri  \\\n",
              "Letra                                                                             \n",
              "Data/Letras/1-'Till-I-Collapse-Eminem.txt  spotify:track:4xkOaSrkexMciUUogZKVTS   \n",
              "Data/Letras/2-St.-Anger-Metallica.txt      spotify:track:3fOc9x06lKJBhz435mInlH   \n",
              "Data/Letras/3-Speedin'-Rick-Ross.txt       spotify:track:3Y96xd4Ce0J47dcalLrEC8   \n",
              "Data/Letras/4-Bamboo-Banga-M.I.A..txt      spotify:track:6tqFC1DIOphJkCwrjVzPmg   \n",
              "Data/Letras/5-Die-MF-Die-Dope.txt          spotify:track:5bU4KX47KqtDKKaLM4QCzh   \n",
              "\n",
              "                                                track_name  \\\n",
              "Letra                                                        \n",
              "Data/Letras/1-'Till-I-Collapse-Eminem.txt  Till I Collapse   \n",
              "Data/Letras/2-St.-Anger-Metallica.txt            St. Anger   \n",
              "Data/Letras/3-Speedin'-Rick-Ross.txt              Speedin'   \n",
              "Data/Letras/4-Bamboo-Banga-M.I.A..txt         Bamboo Banga   \n",
              "Data/Letras/5-Die-MF-Die-Dope.txt               Die MF Die   \n",
              "\n",
              "                                                                      artist_uri  \\\n",
              "Letra                                                                              \n",
              "Data/Letras/1-'Till-I-Collapse-Eminem.txt  spotify:artist:7dGJo4pcD2V6oG8kP0tJRR   \n",
              "Data/Letras/2-St.-Anger-Metallica.txt      spotify:artist:2ye2Wgw4gimLv2eAKyk1NB   \n",
              "Data/Letras/3-Speedin'-Rick-Ross.txt       spotify:artist:1sBkRIssrMs1AbVkOJbc7a   \n",
              "Data/Letras/4-Bamboo-Banga-M.I.A..txt      spotify:artist:0QJIPDAEDILuo8AIq3pMuU   \n",
              "Data/Letras/5-Die-MF-Die-Dope.txt          spotify:artist:7fWgqc4HJi3pcHhK8hKg2p   \n",
              "\n",
              "                                                                                 artist_info  \\\n",
              "Letra                                                                                          \n",
              "Data/Letras/1-'Till-I-Collapse-Eminem.txt  {'external_urls': {'spotify': 'https://open.sp...   \n",
              "Data/Letras/2-St.-Anger-Metallica.txt      {'external_urls': {'spotify': 'https://open.sp...   \n",
              "Data/Letras/3-Speedin'-Rick-Ross.txt       {'external_urls': {'spotify': 'https://open.sp...   \n",
              "Data/Letras/4-Bamboo-Banga-M.I.A..txt      {'external_urls': {'spotify': 'https://open.sp...   \n",
              "Data/Letras/5-Die-MF-Die-Dope.txt          {'external_urls': {'spotify': 'https://open.sp...   \n",
              "\n",
              "                                           ... dominance_tags  \\\n",
              "Letra                                      ...                  \n",
              "Data/Letras/1-'Till-I-Collapse-Eminem.txt  ...       5.690625   \n",
              "Data/Letras/2-St.-Anger-Metallica.txt      ...       5.427250   \n",
              "Data/Letras/3-Speedin'-Rick-Ross.txt       ...       5.490000   \n",
              "Data/Letras/4-Bamboo-Banga-M.I.A..txt      ...       5.691357   \n",
              "Data/Letras/5-Die-MF-Die-Dope.txt          ...       5.441765   \n",
              "\n",
              "                                                                           mbid  \\\n",
              "Letra                                                                             \n",
              "Data/Letras/1-'Till-I-Collapse-Eminem.txt  cab93def-26c5-4fb0-bedd-26ec4c1619e1   \n",
              "Data/Letras/2-St.-Anger-Metallica.txt      727a2529-7ee8-4860-aef6-7959884895cb   \n",
              "Data/Letras/3-Speedin'-Rick-Ross.txt                                        NaN   \n",
              "Data/Letras/4-Bamboo-Banga-M.I.A..txt      99dd2c8c-e7c1-413e-8ea4-4497a00ffa18   \n",
              "Data/Letras/5-Die-MF-Die-Dope.txt          b9eb3484-5e0e-4690-ab5a-ca91937032a5   \n",
              "\n",
              "                                                       spotify_id    genre  \\\n",
              "Letra                                                                        \n",
              "Data/Letras/1-'Till-I-Collapse-Eminem.txt  4xkOaSrkexMciUUogZKVTS      rap   \n",
              "Data/Letras/2-St.-Anger-Metallica.txt      3fOc9x06lKJBhz435mInlH    metal   \n",
              "Data/Letras/3-Speedin'-Rick-Ross.txt       3Y96xd4Ce0J47dcalLrEC8      rap   \n",
              "Data/Letras/4-Bamboo-Banga-M.I.A..txt      6tqFC1DIOphJkCwrjVzPmg  hip-hop   \n",
              "Data/Letras/5-Die-MF-Die-Dope.txt          5bU4KX47KqtDKKaLM4QCzh    metal   \n",
              "\n",
              "                                           cuadrante  cuadReal  \\\n",
              "Letra                                                            \n",
              "Data/Letras/1-'Till-I-Collapse-Eminem.txt          3         2   \n",
              "Data/Letras/2-St.-Anger-Metallica.txt              3         2   \n",
              "Data/Letras/3-Speedin'-Rick-Ross.txt               3         2   \n",
              "Data/Letras/4-Bamboo-Banga-M.I.A..txt              3         1   \n",
              "Data/Letras/5-Die-MF-Die-Dope.txt                  3         1   \n",
              "\n",
              "                                                                 lexicones  \\\n",
              "Letra                                                                        \n",
              "Data/Letras/1-'Till-I-Collapse-Eminem.txt  [0. 2. 0. 0. 0. 2. 6. 0. 0. 2.]   \n",
              "Data/Letras/2-St.-Anger-Metallica.txt      [0. 6. 0. 0. 0. 6. 0. 0. 0. 0.]   \n",
              "Data/Letras/3-Speedin'-Rick-Ross.txt       [0. 2. 0. 0. 0. 2. 0. 0. 0. 0.]   \n",
              "Data/Letras/4-Bamboo-Banga-M.I.A..txt      [0. 0. 0. 0. 0. 0. 4. 0. 0. 0.]   \n",
              "Data/Letras/5-Die-MF-Die-Dope.txt          [0. 1. 0. 0. 0. 1. 0. 0. 0. 0.]   \n",
              "\n",
              "                                                                                   emociones  \\\n",
              "Letra                                                                                          \n",
              "Data/Letras/1-'Till-I-Collapse-Eminem.txt  ['anticipation', 'negative', 'positive', 'trust']   \n",
              "Data/Letras/2-St.-Anger-Metallica.txt                           ['anticipation', 'negative']   \n",
              "Data/Letras/3-Speedin'-Rick-Ross.txt                            ['anticipation', 'negative']   \n",
              "Data/Letras/4-Bamboo-Banga-M.I.A..txt                                           ['positive']   \n",
              "Data/Letras/5-Die-MF-Die-Dope.txt                               ['anticipation', 'negative']   \n",
              "\n",
              "                                                 emocionesLetra  \\\n",
              "Letra                                                             \n",
              "Data/Letras/1-'Till-I-Collapse-Eminem.txt  ['3', '2', '1', '3']   \n",
              "Data/Letras/2-St.-Anger-Metallica.txt                ['3', '2']   \n",
              "Data/Letras/3-Speedin'-Rick-Ross.txt                 ['3', '2']   \n",
              "Data/Letras/4-Bamboo-Banga-M.I.A..txt                     ['1']   \n",
              "Data/Letras/5-Die-MF-Die-Dope.txt                    ['3', '2']   \n",
              "\n",
              "                                           emocion_mas_comun  \n",
              "Letra                                                         \n",
              "Data/Letras/1-'Till-I-Collapse-Eminem.txt                  3  \n",
              "Data/Letras/2-St.-Anger-Metallica.txt                      3  \n",
              "Data/Letras/3-Speedin'-Rick-Ross.txt                       3  \n",
              "Data/Letras/4-Bamboo-Banga-M.I.A..txt                      1  \n",
              "Data/Letras/5-Die-MF-Die-Dope.txt                          3  \n",
              "\n",
              "[5 rows x 49 columns]"
            ]
          },
          "execution_count": 5,
          "metadata": {},
          "output_type": "execute_result"
        }
      ],
      "source": [
        "df = pd.read_csv('Data_completa_enrriquecida.csv',  index_col=0)\n",
        "df.head()"
      ]
    },
    {
      "cell_type": "code",
      "execution_count": 6,
      "metadata": {},
      "outputs": [
        {
          "data": {
            "text/plain": [
              "(24966, 49)"
            ]
          },
          "execution_count": 6,
          "metadata": {},
          "output_type": "execute_result"
        }
      ],
      "source": [
        "df.shape"
      ]
    },
    {
      "attachments": {},
      "cell_type": "markdown",
      "metadata": {},
      "source": [
        "# Preprocesamiento"
      ]
    },
    {
      "cell_type": "code",
      "execution_count": 7,
      "metadata": {},
      "outputs": [
        {
          "data": {
            "text/plain": [
              "Index(['Idioma', 'lyrics_state', 'hasLetra', 'Lyrics', 'Lyrics_proces',\n",
              "       'songId', 'track_uri', 'track_name', 'artist_uri', 'artist_info',\n",
              "       'artist_name', 'artist_pop', 'album', 'track_pop', 'danceability',\n",
              "       'energy', 'key', 'loudness', 'mode', 'speechiness', 'acousticness',\n",
              "       'instrumentalness', 'liveness', 'valence', 'tempo', 'id_song', 'uri',\n",
              "       'track_href', 'analysis_url', 'duration_ms', 'time_signature',\n",
              "       'dataCancion', 'lastfm_url', 'track', 'artist', 'seeds',\n",
              "       'number_of_emotion_tags', 'valence_tags', 'arousal_tags',\n",
              "       'dominance_tags', 'mbid', 'spotify_id', 'genre', 'cuadrante',\n",
              "       'cuadReal', 'lexicones', 'emociones', 'emocionesLetra',\n",
              "       'emocion_mas_comun'],\n",
              "      dtype='object')"
            ]
          },
          "execution_count": 7,
          "metadata": {},
          "output_type": "execute_result"
        }
      ],
      "source": [
        "df.columns"
      ]
    },
    {
      "cell_type": "code",
      "execution_count": 8,
      "metadata": {},
      "outputs": [],
      "source": [
        "df = df[['Idioma', 'lyrics_state', 'hasLetra', 'Lyrics', 'Lyrics_proces',\n",
        "       'songId', 'track_uri', 'emocion_mas_comun', 'cuadrante',\n",
        "       'cuadReal']]"
      ]
    },
    {
      "cell_type": "code",
      "execution_count": 9,
      "metadata": {},
      "outputs": [],
      "source": [
        "corpus = df.Lyrics_proces"
      ]
    },
    {
      "attachments": {},
      "cell_type": "markdown",
      "metadata": {},
      "source": [
        "# Extracción de Características"
      ]
    },
    {
      "cell_type": "code",
      "execution_count": 10,
      "metadata": {},
      "outputs": [],
      "source": [
        "vect = TfidfVectorizer(\n",
        "    sublinear_tf=True, min_df=70, max_df=0.6\n",
        "    ).fit(corpus)"
      ]
    },
    {
      "cell_type": "code",
      "execution_count": 11,
      "metadata": {},
      "outputs": [
        {
          "data": {
            "text/plain": [
              "['vect.joblib']"
            ]
          },
          "execution_count": 11,
          "metadata": {},
          "output_type": "execute_result"
        }
      ],
      "source": [
        "joblib.dump(vect, \"vect.joblib\")"
      ]
    },
    {
      "cell_type": "code",
      "execution_count": 12,
      "metadata": {},
      "outputs": [],
      "source": [
        "vect = joblib.load(\"vect.joblib\") "
      ]
    },
    {
      "attachments": {},
      "cell_type": "markdown",
      "metadata": {},
      "source": [
        "# Validación Cruzada"
      ]
    },
    {
      "cell_type": "code",
      "execution_count": 13,
      "metadata": {},
      "outputs": [],
      "source": [
        "class PersonalityDataset(Dataset):\n",
        "    def __init__(self, features: ArrayLike, labels: ArrayLike):\n",
        "        self.features = torch.tensor(features, dtype=torch.float32)\n",
        "        self.labels = torch.tensor(labels, dtype=torch.int64)\n",
        "\n",
        "    def __len__(self) -> int:\n",
        "        return self.features.shape[0]\n",
        "\n",
        "    def __getitem__(self, idx: int) -> Tuple[Tensor, Tensor]:\n",
        "        return self.features[idx], self.labels[idx]"
      ]
    },
    {
      "cell_type": "code",
      "execution_count": 14,
      "metadata": {},
      "outputs": [],
      "source": [
        "features = vect.transform(corpus).toarray()\n",
        "labels = df.cuadReal.to_numpy()"
      ]
    },
    {
      "cell_type": "code",
      "execution_count": 1,
      "metadata": {},
      "outputs": [
        {
          "ename": "NameError",
          "evalue": "name 'PersonalityDataset' is not defined",
          "output_type": "error",
          "traceback": [
            "\u001b[0;31m---------------------------------------------------------------------------\u001b[0m",
            "\u001b[0;31mNameError\u001b[0m                                 Traceback (most recent call last)",
            "Cell \u001b[0;32mIn[1], line 1\u001b[0m\n\u001b[0;32m----> 1\u001b[0m ds \u001b[39m=\u001b[39m PersonalityDataset(\n\u001b[1;32m      2\u001b[0m         features \u001b[39m=\u001b[39m features, labels\u001b[39m=\u001b[39mlabels\n\u001b[1;32m      3\u001b[0m         ) \n\u001b[1;32m      4\u001b[0m train_ds, val_ds, test_ds \u001b[39m=\u001b[39m random_split(ds, [\u001b[39m0.6\u001b[39m, \u001b[39m0.2\u001b[39m, \u001b[39m0.2\u001b[39m])\n",
            "\u001b[0;31mNameError\u001b[0m: name 'PersonalityDataset' is not defined"
          ]
        }
      ],
      "source": [
        "ds = PersonalityDataset(\n",
        "        features = features, labels=labels\n",
        "        ) \n",
        "train_ds, val_ds, test_ds = random_split(ds, [0.6, 0.2, 0.2])"
      ]
    },
    {
      "cell_type": "code",
      "execution_count": null,
      "metadata": {},
      "outputs": [],
      "source": [
        "train_dl = DataLoader(train_ds, batch_size=1024) \n",
        "val_dl = DataLoader(val_ds, batch_size=512) \n",
        "test_dl = DataLoader(test_ds, batch_size=512) "
      ]
    },
    {
      "attachments": {},
      "cell_type": "markdown",
      "metadata": {},
      "source": [
        "# Modelamiento"
      ]
    },
    {
      "cell_type": "code",
      "execution_count": null,
      "metadata": {},
      "outputs": [],
      "source": [
        "Batch = Tuple[Tensor, Tensor]\n",
        "\n",
        "class Dense(Module):\n",
        "    def __init__(\n",
        "        self,\n",
        "        in_features: int,\n",
        "        out_features: int,\n",
        "        activation: Callable,\n",
        "        dropout: float,\n",
        "        ):\n",
        "        super(Dense, self).__init__()\n",
        "        self.layer = Linear(in_features=in_features, out_features=out_features)\n",
        "        self.dropout = Dropout(p=dropout)\n",
        "        self.activation = activation\n",
        "    \n",
        "    def forward(self, x: Tensor) -> Tensor:\n",
        "        return self.activation(self.dropout(self.layer(x)))\n",
        "\n",
        "class MLP(LightningModule):\n",
        "    def __init__(\n",
        "            self, n_units: List[int], activations: List[Callable],\n",
        "            dropout: float\n",
        "            ):\n",
        "        super(MLP, self).__init__()\n",
        "        self.layers = Sequential(\n",
        "            *(\n",
        "                Dense(\n",
        "                    in_features=ins,\n",
        "                    out_features=outs,\n",
        "                    activation=act,\n",
        "                    dropout=dropout\n",
        "                    )\n",
        "                for ins, outs, act in zip(\n",
        "                    n_units,\n",
        "                    n_units[1:],\n",
        "                    activations\n",
        "                )\n",
        "            )\n",
        "        )\n",
        "    \n",
        "    def forward(self, x: Tensor) -> Tensor:\n",
        "        return self.layers(x)\n",
        "\n",
        "    def configure_optimizers(self) -> Optimizer:\n",
        "        return Adam(self.parameters(), lr=1e-4)\n",
        "\n",
        "    def training_step(\n",
        "        self, train_batch: Batch, batch_idx: int\n",
        "        ) -> Tensor:\n",
        "        features, labels = train_batch\n",
        "        y_pred = self.forward(features)\n",
        "        loss_val = cross_entropy(y_pred, labels)\n",
        "        self.log(\"train_loss\", loss_val)\n",
        "        return loss_val\n",
        "    \n",
        "    def validation_step(\n",
        "        self, val_batch: Batch, batch_idx: int\n",
        "        ):\n",
        "        features, labels = val_batch\n",
        "        y_pred = self.forward(features)\n",
        "        loss_val = cross_entropy(y_pred, labels)\n",
        "        self.log(\"val_loss\", loss_val)"
      ]
    },
    {
      "cell_type": "code",
      "execution_count": null,
      "metadata": {},
      "outputs": [],
      "source": [
        "logger = CSVLogger(save_dir=\"logs/\", name=\"losses.csv\")\n",
        "trainer = Trainer(\n",
        "    max_epochs=300,\n",
        "    logger=logger, log_every_n_steps=10,\n",
        "    callbacks=[\n",
        "        EarlyStopping(monitor=\"val_loss\", min_delta=1e-4, patience=20),\n",
        "        ]\n",
        ")"
      ]
    },
    {
      "cell_type": "code",
      "execution_count": null,
      "metadata": {},
      "outputs": [],
      "source": [
        "linear = lambda x: x\n",
        "model = MLP(\n",
        "    n_units=[features.shape[1], 16],\n",
        "    activations=[linear],\n",
        "    dropout=0.0\n",
        "    )"
      ]
    },
    {
      "cell_type": "code",
      "execution_count": null,
      "metadata": {},
      "outputs": [],
      "source": [
        "trainer.fit(model, train_dl, val_dl)"
      ]
    },
    {
      "attachments": {},
      "cell_type": "markdown",
      "metadata": {},
      "source": [
        "# Evaluación"
      ]
    },
    {
      "cell_type": "code",
      "execution_count": null,
      "metadata": {},
      "outputs": [],
      "source": [
        "df = pd.read_csv(\"logs/losses.csv/version_0/metrics.csv\")\n",
        "df_train = (\n",
        "    df\n",
        "    .filter([\"epoch\", \"train_loss\"])\n",
        "    .dropna()\n",
        "    .groupby(\"epoch\")\n",
        "    .agg({\"train_loss\": \"mean\"})\n",
        ")\n",
        "df_test = (\n",
        "    df\n",
        "    .filter([\"epoch\", \"val_loss\"])\n",
        "    .dropna()\n",
        "    .groupby(\"epoch\")\n",
        "    .agg({\"val_loss\": \"mean\"})\n",
        ")   \n",
        "\n",
        "df = df_train.join(df_test, on=\"epoch\").reset_index()"
      ]
    },
    {
      "cell_type": "code",
      "execution_count": null,
      "metadata": {},
      "outputs": [],
      "source": [
        "fig = (\n",
        "    px.line(df, x=\"epoch\", y=[\"train_loss\", \"val_loss\"])\n",
        ")\n",
        "fig.show()"
      ]
    },
    {
      "cell_type": "code",
      "execution_count": null,
      "metadata": {},
      "outputs": [],
      "source": [
        "metric = []\n",
        "for features_batch, labels_batch in test_dl:\n",
        "    y_pred = torch.argmax(model(features_batch), dim=1)\n",
        "    metric.append(y_pred == labels_batch)"
      ]
    },
    {
      "cell_type": "code",
      "execution_count": null,
      "metadata": {},
      "outputs": [],
      "source": [
        "metric = torch.concat(metric) \n",
        "print(metric.float().mean())"
      ]
    },
    {
      "cell_type": "code",
      "execution_count": null,
      "metadata": {},
      "outputs": [],
      "source": []
    },
    {
      "cell_type": "code",
      "execution_count": null,
      "metadata": {},
      "outputs": [],
      "source": []
    },
    {
      "cell_type": "code",
      "execution_count": null,
      "metadata": {},
      "outputs": [],
      "source": []
    }
  ],
  "metadata": {
    "colab": {
      "provenance": []
    },
    "kernelspec": {
      "display_name": "myproject",
      "language": "python",
      "name": "myproject"
    },
    "language_info": {
      "codemirror_mode": {
        "name": "ipython",
        "version": 3
      },
      "file_extension": ".py",
      "mimetype": "text/x-python",
      "name": "python",
      "nbconvert_exporter": "python",
      "pygments_lexer": "ipython3",
      "version": "3.10.6"
    },
    "vscode": {
      "interpreter": {
        "hash": "d03d2963756d2c784d4238c56df6962158e65914aa5eabf4a65fd009cb3b9ffc"
      }
    }
  },
  "nbformat": 4,
  "nbformat_minor": 0
}
